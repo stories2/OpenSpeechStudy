{
 "cells": [
  {
   "cell_type": "markdown",
   "metadata": {},
   "source": [
    "# GET CITY TIME USING STT"
   ]
  },
  {
   "cell_type": "markdown",
   "metadata": {},
   "source": [
    "google speech api를 이용하여 원하는 도시의 현제 시간을 알아내는 솔류션"
   ]
  },
  {
   "cell_type": "code",
   "execution_count": 38,
   "metadata": {
    "collapsed": true
   },
   "outputs": [],
   "source": [
    "import speech_recognition as speechRecongnition\n",
    "from datetime import datetime, timedelta\n",
    "from pytz import timezone\n",
    "import pytz\n",
    "import nltk"
   ]
  },
  {
   "cell_type": "markdown",
   "metadata": {},
   "source": [
    "필요한 모듈 임포트\n",
    "> speech_recognition : 음성 인식 라이브러리\n",
    "\n",
    "> datetime, timedelta : 시간 관련 라이브러리\n",
    "\n",
    "> pytz : 각 나라의 timezone 라이브러리\n",
    "\n",
    "> nltk : 영어 형태소 분석 라이브러리"
   ]
  },
  {
   "cell_type": "code",
   "execution_count": 19,
   "metadata": {
    "collapsed": true
   },
   "outputs": [],
   "source": [
    "timeUTC = pytz.utc"
   ]
  },
  {
   "cell_type": "code",
   "execution_count": 20,
   "metadata": {
    "collapsed": false
   },
   "outputs": [
    {
     "name": "stdout",
     "output_type": "stream",
     "text": [
      "UTC\n"
     ]
    }
   ],
   "source": [
    "print timeUTC"
   ]
  },
  {
   "cell_type": "markdown",
   "metadata": {},
   "source": [
    "세계 표준 시간 사용"
   ]
  },
  {
   "cell_type": "code",
   "execution_count": 22,
   "metadata": {
    "collapsed": true
   },
   "outputs": [],
   "source": [
    "voiceDataController = speechRecongnition.Recognizer()"
   ]
  },
  {
   "cell_type": "markdown",
   "metadata": {},
   "source": [
    "음성 인식 라이브러리 초기화"
   ]
  },
  {
   "cell_type": "code",
   "execution_count": 25,
   "metadata": {
    "collapsed": false
   },
   "outputs": [
    {
     "name": "stdout",
     "output_type": "stream",
     "text": [
      "say something\n"
     ]
    }
   ],
   "source": [
    "with speechRecongnition.Microphone() as voiceSource:\n",
    "    print \"say something\"\n",
    "    voiceData = voiceDataController.listen(voiceSource)"
   ]
  },
  {
   "cell_type": "markdown",
   "metadata": {},
   "source": [
    "마이크를 이용하여 음성 데이터 수집"
   ]
  },
  {
   "cell_type": "code",
   "execution_count": 26,
   "metadata": {
    "collapsed": false
   },
   "outputs": [
    {
     "name": "stdout",
     "output_type": "stream",
     "text": [
      "google speech think : what time is it in in Korean\n"
     ]
    }
   ],
   "source": [
    "try:\n",
    "    speechTextData = voiceDataController.recognize_google(voiceData)\n",
    "    print \"google speech think : \" + speechTextData\n",
    "except speechRecongnition.UnknownValueError:\n",
    "    print \"unknown voice data\"\n",
    "except speechRecongnition.RequestError as e:\n",
    "    print \"Error \",e"
   ]
  },
  {
   "cell_type": "markdown",
   "metadata": {},
   "source": [
    "구글 음성인식 api 서비스를 이용하여 STT 구현"
   ]
  },
  {
   "cell_type": "code",
   "execution_count": 33,
   "metadata": {
    "collapsed": false
   },
   "outputs": [
    {
     "name": "stdout",
     "output_type": "stream",
     "text": [
      "['what', 'time', 'is', 'it', 'in', 'Tokyo']\n"
     ]
    }
   ],
   "source": [
    "parsedSpeechText = nltk.word_tokenize(speechTextData)#\"what time is it in Tokyo\"\n",
    "print parsedSpeechText"
   ]
  },
  {
   "cell_type": "markdown",
   "metadata": {},
   "source": [
    "받아들인 텍스트 데이터를 형태소 분석"
   ]
  },
  {
   "cell_type": "code",
   "execution_count": 34,
   "metadata": {
    "collapsed": false
   },
   "outputs": [
    {
     "name": "stdout",
     "output_type": "stream",
     "text": [
      "hello\n",
      "Asia/Tokyo\n"
     ]
    }
   ],
   "source": [
    "findTargetTimeZone = False\n",
    "findTimeOrderEnable = False\n",
    "selectedTimeZone = \"Asia/Seoul\"\n",
    "for indexOfWord in parsedSpeechText:\n",
    "    if findTargetTimeZone == True:\n",
    "        for indexOfTimeZone in pytz.all_timezones:\n",
    "            if indexOfWord in indexOfTimeZone:\n",
    "                print indexOfTimeZone\n",
    "                selectedTimeZone = indexOfTimeZone\n",
    "    if \"time\" in indexOfWord:\n",
    "        findTimeOrderEnable = True\n",
    "    if findTimeOrderEnable == True and \"in\" in indexOfWord:\n",
    "        findTargetTimeZone = True"
   ]
  },
  {
   "cell_type": "markdown",
   "metadata": {},
   "source": [
    "원하는 나라의 도시를 검색"
   ]
  },
  {
   "cell_type": "code",
   "execution_count": 36,
   "metadata": {
    "collapsed": true
   },
   "outputs": [],
   "source": [
    "selectedCityTimeZone = timezone(selectedTimeZone)"
   ]
  },
  {
   "cell_type": "markdown",
   "metadata": {},
   "source": [
    "찾은 도시의 타임존 데이터를 가져옴"
   ]
  },
  {
   "cell_type": "code",
   "execution_count": 39,
   "metadata": {
    "collapsed": false
   },
   "outputs": [],
   "source": [
    "targetCityTime = datetime.now(selectedCityTimeZone)"
   ]
  },
  {
   "cell_type": "markdown",
   "metadata": {},
   "source": [
    "타임존 데이터를 기초로 현제 시간을 계산"
   ]
  },
  {
   "cell_type": "code",
   "execution_count": 40,
   "metadata": {
    "collapsed": false
   },
   "outputs": [
    {
     "name": "stdout",
     "output_type": "stream",
     "text": [
      "04-42-46\n"
     ]
    }
   ],
   "source": [
    "print targetCityTime.strftime(\"%H:%M:%S\")"
   ]
  },
  {
   "cell_type": "markdown",
   "metadata": {},
   "source": [
    "출력"
   ]
  }
 ],
 "metadata": {
  "kernelspec": {
   "display_name": "Python 2",
   "language": "python",
   "name": "python2"
  },
  "language_info": {
   "codemirror_mode": {
    "name": "ipython",
    "version": 2
   },
   "file_extension": ".py",
   "mimetype": "text/x-python",
   "name": "python",
   "nbconvert_exporter": "python",
   "pygments_lexer": "ipython2",
   "version": "2.7.12"
  }
 },
 "nbformat": 4,
 "nbformat_minor": 2
}
